{
 "cells": [
  {
   "cell_type": "code",
   "execution_count": 48,
   "metadata": {},
   "outputs": [],
   "source": [
    "import pandas as pd\n",
    "import numpy as np\n",
    "import seaborn as sns\n",
    "import matplotlib.pyplot as plt\n",
    "import scipy.stats as stats\n",
    "from sklearn.model_selection import train_test_split\n",
    "from sklearn.model_selection import cross_val_score\n",
    "from sklearn.preprocessing import StandardScaler\n",
    "from sklearn.linear_model import LinearRegression\n",
    "from sklearn.linear_model import Lasso\n",
    "from sklearn.linear_model import Ridge\n",
    "from sklearn.linear_model import ElasticNet\n",
    "from sklearn.metrics import r2_score\n",
    "from sklearn.metrics import mean_squared_error\n",
    "from sklearn.decomposition import PCA\n",
    "from matplotlib.pyplot import figure\n",
    "import pylab"
   ]
  },
  {
   "cell_type": "code",
   "execution_count": 3,
   "metadata": {},
   "outputs": [
    {
     "name": "stdout",
     "output_type": "stream",
     "text": [
      "Size of data 223 x 16\n",
      "   T1Y Index  T2Y Index  T3Y Index  T5Y Index  T7Y Index  T10Y Index  CP1M  \\\n",
      "0      10.41       9.86       9.50       9.20       9.14        9.10  9.75   \n",
      "1      10.24       9.72       9.29       9.13       9.11        9.10  9.74   \n",
      "2      10.25       9.79       9.38       9.20       9.15        9.12  9.72   \n",
      "3      10.12       9.78       9.43       9.25       9.21        9.18  9.86   \n",
      "4      10.12       9.78       9.42       9.24       9.23        9.25  9.77   \n",
      "\n",
      "   CP3M   CP6M  CP1M_T1Y  CP3M_T1Y  CP6M_T1Y  USPHCI  PCT 3MO FWD  \\\n",
      "0  9.95  10.01  0.936599  0.955812  0.961575   47.08     0.011470   \n",
      "1  9.90   9.96  0.951172  0.966797  0.972656   47.32     0.009298   \n",
      "2  9.85   9.87  0.948293  0.960976  0.962927   47.39     0.010340   \n",
      "3  9.95   9.98  0.974308  0.983202  0.986166   47.62     0.006720   \n",
      "4  9.76   9.71  0.965415  0.964427  0.959486   47.76     0.005653   \n",
      "\n",
      "   PCT 6MO FWD  PCT 9MO FWD  \n",
      "0     0.018060     0.024406  \n",
      "1     0.014866     0.020612  \n",
      "2     0.015455     0.020154  \n",
      "3     0.013141     0.017409  \n",
      "4     0.011451     0.016353  \n"
     ]
    }
   ],
   "source": [
    "#import data\n",
    "df = pd.read_csv('MLF_GP2_EconCycle.csv')\n",
    "#dropping the atribute date because it's irrelevant\n",
    "df = df.drop(['Date'],axis=1)\n",
    "#summary of data\n",
    "print(\"Size of data \" + str(len(df)) + \" x \" + str(len(df.columns)))\n",
    "print(df.head())"
   ]
  },
  {
   "cell_type": "code",
   "execution_count": 4,
   "metadata": {},
   "outputs": [
    {
     "name": "stdout",
     "output_type": "stream",
     "text": [
      "T1Y Index      float64\n",
      "T2Y Index      float64\n",
      "T3Y Index      float64\n",
      "T5Y Index      float64\n",
      "T7Y Index      float64\n",
      "T10Y Index     float64\n",
      "CP1M           float64\n",
      "CP3M           float64\n",
      "CP6M           float64\n",
      "CP1M_T1Y       float64\n",
      "CP3M_T1Y       float64\n",
      "CP6M_T1Y       float64\n",
      "USPHCI         float64\n",
      "PCT 3MO FWD    float64\n",
      "PCT 6MO FWD    float64\n",
      "PCT 9MO FWD    float64\n",
      "dtype: object\n",
      "float64\n",
      "Total number of numeric columns: 16\n",
      "Total number of categorical columns: 0\n"
     ]
    }
   ],
   "source": [
    "#determine how many of the columns of data are numeric versus categorical\n",
    "print(df.dtypes)\n",
    "i=0\n",
    "j=0\n",
    "print(df.iloc[0].dtypes)\n",
    "for a in range(len(df.columns)):\n",
    "    if(df.iloc[: ,a].dtypes == object):\n",
    "        i += 1\n",
    "    else:\n",
    "        j += 1\n",
    "print('Total number of numeric columns: ' + str(j))\n",
    "print('Total number of categorical columns: ' + str(i))"
   ]
  },
  {
   "cell_type": "code",
   "execution_count": 5,
   "metadata": {},
   "outputs": [
    {
     "name": "stdout",
     "output_type": "stream",
     "text": [
      "Number of missing values in each column\n",
      "T1Y Index      0\n",
      "T2Y Index      0\n",
      "T3Y Index      0\n",
      "T5Y Index      0\n",
      "T7Y Index      0\n",
      "T10Y Index     0\n",
      "CP1M           0\n",
      "CP3M           0\n",
      "CP6M           0\n",
      "CP1M_T1Y       0\n",
      "CP3M_T1Y       0\n",
      "CP6M_T1Y       0\n",
      "USPHCI         0\n",
      "PCT 3MO FWD    0\n",
      "PCT 6MO FWD    0\n",
      "PCT 9MO FWD    0\n",
      "dtype: int64\n"
     ]
    }
   ],
   "source": [
    "print(\"Number of missing values in each column\")\n",
    "print(df.isnull().sum())"
   ]
  },
  {
   "cell_type": "code",
   "execution_count": 6,
   "metadata": {},
   "outputs": [
    {
     "data": {
      "text/html": [
       "<div>\n",
       "<style scoped>\n",
       "    .dataframe tbody tr th:only-of-type {\n",
       "        vertical-align: middle;\n",
       "    }\n",
       "\n",
       "    .dataframe tbody tr th {\n",
       "        vertical-align: top;\n",
       "    }\n",
       "\n",
       "    .dataframe thead th {\n",
       "        text-align: right;\n",
       "    }\n",
       "</style>\n",
       "<table border=\"1\" class=\"dataframe\">\n",
       "  <thead>\n",
       "    <tr style=\"text-align: right;\">\n",
       "      <th></th>\n",
       "      <th>T1Y Index</th>\n",
       "      <th>T2Y Index</th>\n",
       "      <th>T3Y Index</th>\n",
       "      <th>T5Y Index</th>\n",
       "      <th>T7Y Index</th>\n",
       "      <th>T10Y Index</th>\n",
       "      <th>CP1M</th>\n",
       "      <th>CP3M</th>\n",
       "      <th>CP6M</th>\n",
       "      <th>CP1M_T1Y</th>\n",
       "      <th>CP3M_T1Y</th>\n",
       "      <th>CP6M_T1Y</th>\n",
       "      <th>USPHCI</th>\n",
       "      <th>PCT 3MO FWD</th>\n",
       "      <th>PCT 6MO FWD</th>\n",
       "      <th>PCT 9MO FWD</th>\n",
       "    </tr>\n",
       "  </thead>\n",
       "  <tbody>\n",
       "    <tr>\n",
       "      <th>count</th>\n",
       "      <td>223.000000</td>\n",
       "      <td>223.000000</td>\n",
       "      <td>223.000000</td>\n",
       "      <td>223.000000</td>\n",
       "      <td>223.000000</td>\n",
       "      <td>223.000000</td>\n",
       "      <td>223.000000</td>\n",
       "      <td>223.000000</td>\n",
       "      <td>223.000000</td>\n",
       "      <td>223.000000</td>\n",
       "      <td>223.000000</td>\n",
       "      <td>223.000000</td>\n",
       "      <td>223.000000</td>\n",
       "      <td>223.000000</td>\n",
       "      <td>223.000000</td>\n",
       "      <td>223.000000</td>\n",
       "    </tr>\n",
       "    <tr>\n",
       "      <th>mean</th>\n",
       "      <td>8.030717</td>\n",
       "      <td>8.410673</td>\n",
       "      <td>8.563587</td>\n",
       "      <td>8.808655</td>\n",
       "      <td>8.979776</td>\n",
       "      <td>9.073498</td>\n",
       "      <td>7.942197</td>\n",
       "      <td>7.936906</td>\n",
       "      <td>7.892780</td>\n",
       "      <td>0.981765</td>\n",
       "      <td>0.983524</td>\n",
       "      <td>0.982666</td>\n",
       "      <td>60.594664</td>\n",
       "      <td>0.007083</td>\n",
       "      <td>0.014090</td>\n",
       "      <td>0.021078</td>\n",
       "    </tr>\n",
       "    <tr>\n",
       "      <th>std</th>\n",
       "      <td>3.158575</td>\n",
       "      <td>2.954431</td>\n",
       "      <td>2.820405</td>\n",
       "      <td>2.647742</td>\n",
       "      <td>2.542686</td>\n",
       "      <td>2.447525</td>\n",
       "      <td>3.405098</td>\n",
       "      <td>3.329354</td>\n",
       "      <td>3.181421</td>\n",
       "      <td>0.086243</td>\n",
       "      <td>0.077222</td>\n",
       "      <td>0.067152</td>\n",
       "      <td>9.512352</td>\n",
       "      <td>0.004839</td>\n",
       "      <td>0.009137</td>\n",
       "      <td>0.013037</td>\n",
       "    </tr>\n",
       "    <tr>\n",
       "      <th>min</th>\n",
       "      <td>3.180000</td>\n",
       "      <td>3.840000</td>\n",
       "      <td>4.170000</td>\n",
       "      <td>4.710000</td>\n",
       "      <td>5.050000</td>\n",
       "      <td>5.330000</td>\n",
       "      <td>3.110000</td>\n",
       "      <td>3.140000</td>\n",
       "      <td>3.190000</td>\n",
       "      <td>0.717523</td>\n",
       "      <td>0.713534</td>\n",
       "      <td>0.698496</td>\n",
       "      <td>47.080000</td>\n",
       "      <td>-0.006811</td>\n",
       "      <td>-0.009818</td>\n",
       "      <td>-0.012272</td>\n",
       "    </tr>\n",
       "    <tr>\n",
       "      <th>25%</th>\n",
       "      <td>5.735000</td>\n",
       "      <td>6.180000</td>\n",
       "      <td>6.410000</td>\n",
       "      <td>6.695000</td>\n",
       "      <td>6.965000</td>\n",
       "      <td>7.175000</td>\n",
       "      <td>5.605000</td>\n",
       "      <td>5.645000</td>\n",
       "      <td>5.635000</td>\n",
       "      <td>0.933849</td>\n",
       "      <td>0.939727</td>\n",
       "      <td>0.945402</td>\n",
       "      <td>50.370000</td>\n",
       "      <td>0.005526</td>\n",
       "      <td>0.010694</td>\n",
       "      <td>0.014351</td>\n",
       "    </tr>\n",
       "    <tr>\n",
       "      <th>50%</th>\n",
       "      <td>7.670000</td>\n",
       "      <td>8.000000</td>\n",
       "      <td>8.130000</td>\n",
       "      <td>8.330000</td>\n",
       "      <td>8.520000</td>\n",
       "      <td>8.610000</td>\n",
       "      <td>7.730000</td>\n",
       "      <td>7.720000</td>\n",
       "      <td>7.620000</td>\n",
       "      <td>0.972671</td>\n",
       "      <td>0.977941</td>\n",
       "      <td>0.979955</td>\n",
       "      <td>61.090000</td>\n",
       "      <td>0.008270</td>\n",
       "      <td>0.016184</td>\n",
       "      <td>0.024425</td>\n",
       "    </tr>\n",
       "    <tr>\n",
       "      <th>75%</th>\n",
       "      <td>9.840000</td>\n",
       "      <td>10.075000</td>\n",
       "      <td>10.375000</td>\n",
       "      <td>10.525000</td>\n",
       "      <td>10.640000</td>\n",
       "      <td>10.685000</td>\n",
       "      <td>9.345000</td>\n",
       "      <td>9.345000</td>\n",
       "      <td>9.300000</td>\n",
       "      <td>1.033005</td>\n",
       "      <td>1.026137</td>\n",
       "      <td>1.015973</td>\n",
       "      <td>67.005000</td>\n",
       "      <td>0.010203</td>\n",
       "      <td>0.019878</td>\n",
       "      <td>0.029398</td>\n",
       "    </tr>\n",
       "    <tr>\n",
       "      <th>max</th>\n",
       "      <td>16.720000</td>\n",
       "      <td>16.460000</td>\n",
       "      <td>16.220000</td>\n",
       "      <td>15.930000</td>\n",
       "      <td>15.650000</td>\n",
       "      <td>15.320000</td>\n",
       "      <td>18.950000</td>\n",
       "      <td>18.070000</td>\n",
       "      <td>16.660000</td>\n",
       "      <td>1.339223</td>\n",
       "      <td>1.277032</td>\n",
       "      <td>1.220480</td>\n",
       "      <td>79.210000</td>\n",
       "      <td>0.020297</td>\n",
       "      <td>0.036636</td>\n",
       "      <td>0.050174</td>\n",
       "    </tr>\n",
       "  </tbody>\n",
       "</table>\n",
       "</div>"
      ],
      "text/plain": [
       "        T1Y Index   T2Y Index   T3Y Index   T5Y Index   T7Y Index  T10Y Index  \\\n",
       "count  223.000000  223.000000  223.000000  223.000000  223.000000  223.000000   \n",
       "mean     8.030717    8.410673    8.563587    8.808655    8.979776    9.073498   \n",
       "std      3.158575    2.954431    2.820405    2.647742    2.542686    2.447525   \n",
       "min      3.180000    3.840000    4.170000    4.710000    5.050000    5.330000   \n",
       "25%      5.735000    6.180000    6.410000    6.695000    6.965000    7.175000   \n",
       "50%      7.670000    8.000000    8.130000    8.330000    8.520000    8.610000   \n",
       "75%      9.840000   10.075000   10.375000   10.525000   10.640000   10.685000   \n",
       "max     16.720000   16.460000   16.220000   15.930000   15.650000   15.320000   \n",
       "\n",
       "             CP1M        CP3M        CP6M    CP1M_T1Y    CP3M_T1Y    CP6M_T1Y  \\\n",
       "count  223.000000  223.000000  223.000000  223.000000  223.000000  223.000000   \n",
       "mean     7.942197    7.936906    7.892780    0.981765    0.983524    0.982666   \n",
       "std      3.405098    3.329354    3.181421    0.086243    0.077222    0.067152   \n",
       "min      3.110000    3.140000    3.190000    0.717523    0.713534    0.698496   \n",
       "25%      5.605000    5.645000    5.635000    0.933849    0.939727    0.945402   \n",
       "50%      7.730000    7.720000    7.620000    0.972671    0.977941    0.979955   \n",
       "75%      9.345000    9.345000    9.300000    1.033005    1.026137    1.015973   \n",
       "max     18.950000   18.070000   16.660000    1.339223    1.277032    1.220480   \n",
       "\n",
       "           USPHCI  PCT 3MO FWD  PCT 6MO FWD  PCT 9MO FWD  \n",
       "count  223.000000   223.000000   223.000000   223.000000  \n",
       "mean    60.594664     0.007083     0.014090     0.021078  \n",
       "std      9.512352     0.004839     0.009137     0.013037  \n",
       "min     47.080000    -0.006811    -0.009818    -0.012272  \n",
       "25%     50.370000     0.005526     0.010694     0.014351  \n",
       "50%     61.090000     0.008270     0.016184     0.024425  \n",
       "75%     67.005000     0.010203     0.019878     0.029398  \n",
       "max     79.210000     0.020297     0.036636     0.050174  "
      ]
     },
     "execution_count": 6,
     "metadata": {},
     "output_type": "execute_result"
    }
   ],
   "source": [
    "#some statistical analysis of the data set\n",
    "df.describe()"
   ]
  },
  {
   "cell_type": "code",
   "execution_count": 12,
   "metadata": {},
   "outputs": [
    {
     "name": "stdout",
     "output_type": "stream",
     "text": [
      "T1Y Index      0\n",
      "T2Y Index      0\n",
      "T3Y Index      0\n",
      "T5Y Index      0\n",
      "T7Y Index      0\n",
      "T10Y Index     0\n",
      "CP1M           0\n",
      "CP3M           0\n",
      "CP6M           0\n",
      "CP1M_T1Y       0\n",
      "CP3M_T1Y       0\n",
      "CP6M_T1Y       0\n",
      "USPHCI         0\n",
      "PCT 3MO FWD    0\n",
      "PCT 6MO FWD    0\n",
      "PCT 9MO FWD    0\n",
      "dtype: int64\n",
      "It can be seen that there are no missing values\n"
     ]
    }
   ],
   "source": [
    "#checking for any missing values\n",
    "print(df.isnull().sum())\n",
    "print(\"It can be seen that there are no missing values\")"
   ]
  },
  {
   "cell_type": "code",
   "execution_count": 7,
   "metadata": {},
   "outputs": [
    {
     "data": {
      "image/png": "[encoded data removed]",
      "text/plain": [
       "<Figure size 432x288 with 2 Axes>"
      ]
     },
     "metadata": {
      "needs_background": "light"
     },
     "output_type": "display_data"
    }
   ],
   "source": [
    "columnsNamesArr = df.columns.values\n",
    "cm = np.corrcoef(df.values.T)\n",
    "hm = sns.heatmap(cm,cmap='BuGn',cbar=True,xticklabels=columnsNamesArr,yticklabels=columnsNamesArr)\n",
    "sns.set(rc={'figure.figsize':(11.7,8.27)})"
   ]
  },
  {
   "cell_type": "code",
   "execution_count": 62,
   "metadata": {},
   "outputs": [],
   "source": [
    "sc = StandardScaler()\n",
    "#splitting X from y(USHPCI3)and taking only the values\n",
    "X = df.iloc[:, 0:-4].values\n",
    "y = df.iloc[: ,-3].values\n",
    "y = y.reshape(-1,1)\n",
    "X_std = sc.fit_transform(X)\n",
    "y_std = sc.fit_transform(y)"
   ]
  },
  {
   "cell_type": "code",
   "execution_count": 63,
   "metadata": {},
   "outputs": [],
   "source": [
    "X_train, X_test, y_train, y_test = train_test_split(\n",
    "    X_std, y_std, test_size=0.2, random_state=42)"
   ]
  },
  {
   "cell_type": "code",
   "execution_count": 68,
   "metadata": {},
   "outputs": [
    {
     "name": "stdout",
     "output_type": "stream",
     "text": [
      "Slope: -3.930\n",
      "Intercept: 0.012\n"
     ]
    }
   ],
   "source": [
    "#Linear Regression before PCA\n",
    "lr = LinearRegression()\n",
    "lr.fit(X_train,y_train)\n",
    "y_pred = lr.predict(X_test)\n",
    "print('Slope: %.3f' % lr.coef_[0][0])\n",
    "print('Intercept: %.3f' % lr.intercept_)"
   ]
  },
  {
   "cell_type": "code",
   "execution_count": 70,
   "metadata": {},
   "outputs": [
    {
     "name": "stdout",
     "output_type": "stream",
     "text": [
      "MSE train: 0.730, test: 0.957\n",
      "R^2 train: 0.294, test: -0.113\n"
     ]
    }
   ],
   "source": [
    "#Scores for Linear Regression all components before PCA\n",
    "lr.fit(X_train, y_train)\n",
    "y_train_pred = lr.predict(X_train)\n",
    "y_test_pred = lr.predict(X_test)\n",
    "print('MSE train: %.3f, test: %.3f' % (\n",
    "        mean_squared_error(y_train, y_train_pred),\n",
    "        mean_squared_error(y_test, y_test_pred)))\n",
    "print('R^2 train: %.3f, test: %.3f' % (\n",
    "        r2_score(y_train, y_train_pred),\n",
    "        r2_score(y_test, y_test_pred)))"
   ]
  },
  {
   "cell_type": "code",
   "execution_count": 71,
   "metadata": {},
   "outputs": [
    {
     "name": "stdout",
     "output_type": "stream",
     "text": [
      "[ -0.51145883  -6.86017268  -9.83010745  -1.1328174   -8.30767203\n",
      "  -0.56825524 -13.28056533  -5.27656148   0.59692828  -3.98117923]\n",
      "Average 10-Fold CV Score: -4.915186140184682\n"
     ]
    }
   ],
   "source": [
    "#K-fold Cross Validation for Linear Regression\n",
    "cv_scores = cross_val_score(lr,X,y,cv=10)\n",
    "print(cv_scores)\n",
    "print(\"Average 10-Fold CV Score: {}\".format(np.mean(cv_scores)))"
   ]
  },
  {
   "cell_type": "code",
   "execution_count": 50,
   "metadata": {},
   "outputs": [
    {
     "name": "stdout",
     "output_type": "stream",
     "text": [
      "[7.42788394e-01 2.34826713e-01 1.26101993e-02 8.40701509e-03\n",
      " 7.70108077e-04 3.41708043e-04 1.31762869e-04 7.92883891e-05\n",
      " 2.38823035e-05 1.22482315e-05 6.97563715e-06 1.70541914e-06]\n",
      "Number of principal components: 12\n"
     ]
    }
   ],
   "source": [
    "pca = PCA()\n",
    "X_train_pca = pca.fit_transform(X_train)\n",
    "comp = pca.explained_variance_ratio_\n",
    "print(comp)\n",
    "print(\"Number of principal components: \" + str(len(comp)))"
   ]
  },
  {
   "cell_type": "code",
   "execution_count": 51,
   "metadata": {},
   "outputs": [
    {
     "data": {
      "image/png": "[encoded data removed]",
      "text/plain": [
       "<Figure size 842.4x595.44 with 1 Axes>"
      ]
     },
     "metadata": {},
     "output_type": "display_data"
    }
   ],
   "source": [
    "plt.bar(range(1, len(comp)+1), pca.explained_variance_ratio_, alpha=0.5, align='center')\n",
    "plt.step(range(1, len(comp)+1), np.cumsum(pca.explained_variance_ratio_), where='mid')\n",
    "plt.ylabel('Explained variance ratio')\n",
    "plt.xlabel('Principal components')\n",
    "\n",
    "plt.show()"
   ]
  },
  {
   "cell_type": "code",
   "execution_count": 85,
   "metadata": {},
   "outputs": [
    {
     "name": "stdout",
     "output_type": "stream",
     "text": [
      "[0.74278839 0.23482671 0.0126102 ]\n",
      "Number of principal components: 3\n"
     ]
    }
   ],
   "source": [
    "#taking only the top 4 components and running PCA again\n",
    "pca = PCA(n_components=3)\n",
    "X_train_pca = pca.fit_transform(X_train)\n",
    "X_test_pca = pca.transform(X_test)\n",
    "comp = pca.explained_variance_ratio_\n",
    "print(comp)\n",
    "print(\"Number of principal components: \" + str(len(comp)))"
   ]
  },
  {
   "cell_type": "code",
   "execution_count": 86,
   "metadata": {},
   "outputs": [
    {
     "name": "stdout",
     "output_type": "stream",
     "text": [
      "original shape: (223, 12)\n",
      "transformed shape: (223, 3)\n"
     ]
    }
   ],
   "source": [
    "X_pca = pca.transform(X_std)\n",
    "print(\"original shape: \" + str(np.shape(X)))\n",
    "print(\"transformed shape: \" + str(np.shape(X_pca)))"
   ]
  },
  {
   "cell_type": "code",
   "execution_count": 87,
   "metadata": {},
   "outputs": [
    {
     "data": {
      "image/png": "[encoded data removed]",
      "text/plain": [
       "<Figure size 842.4x595.44 with 1 Axes>"
      ]
     },
     "metadata": {},
     "output_type": "display_data"
    }
   ],
   "source": [
    "plt.bar(range(1, len(comp)+1), pca.explained_variance_ratio_, alpha=0.5, align='center')\n",
    "plt.step(range(1, len(comp)+1), np.cumsum(pca.explained_variance_ratio_), where='mid')\n",
    "plt.ylabel('Explained variance ratio')\n",
    "plt.xlabel('Principal components')\n",
    "\n",
    "plt.show()"
   ]
  },
  {
   "cell_type": "code",
   "execution_count": 88,
   "metadata": {},
   "outputs": [
    {
     "name": "stdout",
     "output_type": "stream",
     "text": [
      "MSE train: 0.818, test: 0.753\n",
      "R^2 train: 0.210, test: 0.124\n"
     ]
    }
   ],
   "source": [
    "#Linear Regression after pca with 4 components\n",
    "lr.fit(X_train_pca, y_train)\n",
    "y_train_pred = lr.predict(X_train_pca)\n",
    "y_test_pred = lr.predict(X_test_pca)\n",
    "print('MSE train: %.3f, test: %.3f' % (\n",
    "        mean_squared_error(y_train, y_train_pred),\n",
    "        mean_squared_error(y_test, y_test_pred)))\n",
    "print('R^2 train: %.3f, test: %.3f' % (\n",
    "        r2_score(y_train, y_train_pred),\n",
    "        r2_score(y_test, y_test_pred)))"
   ]
  }
 ],
 "metadata": {
  "kernelspec": {
   "display_name": "Python 3",
   "language": "python",
   "name": "python3"
  },
  "language_info": {
   "codemirror_mode": {
    "name": "ipython",
    "version": 3
   },
   "file_extension": ".py",
   "mimetype": "text/x-python",
   "name": "python",
   "nbconvert_exporter": "python",
   "pygments_lexer": "ipython3",
   "version": "3.8.3"
  }
 },
 "nbformat": 4,
 "nbformat_minor": 4
}
