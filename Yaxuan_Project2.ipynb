{
 "cells": [
  {
   "cell_type": "code",
   "execution_count": 23,
   "metadata": {},
   "outputs": [],
   "source": [
    "import pandas as pd\n",
    "import numpy as np\n",
    "import seaborn as sns\n",
    "import matplotlib.pyplot as plt\n",
    "import scipy.stats as stats\n",
    "from sklearn.pipeline import Pipeline\n",
    "from sklearn.model_selection import train_test_split\n",
    "from sklearn.model_selection import cross_val_score\n",
    "from sklearn.preprocessing import StandardScaler\n",
    "from sklearn.linear_model import LinearRegression\n",
    "from sklearn.linear_model import Lasso\n",
    "from sklearn.linear_model import Ridge\n",
    "from sklearn.linear_model import ElasticNet\n",
    "from sklearn.metrics import r2_score\n",
    "from sklearn.metrics import mean_squared_error\n",
    "from sklearn.decomposition import PCA\n",
    "from matplotlib.pyplot import figure\n",
    "from sklearn.ensemble import RandomForestRegressor\n",
    "from sklearn.model_selection import GridSearchCV\n",
    "import pylab\n",
    "from sklearn.decomposition import PCA\n",
    "from sklearn import svm\n",
    "from sklearn.ensemble import RandomForestRegressor"
   ]
  },
  {
   "cell_type": "code",
   "execution_count": 6,
   "metadata": {},
   "outputs": [
    {
     "name": "stdout",
     "output_type": "stream",
     "text": [
      "Size of data 223 x 18\n",
      "   T1Y Index  T2Y Index  T3Y Index  T5Y Index  T7Y Index  T10Y Index  CP1M  \\\n",
      "0      10.41       9.86       9.50       9.20       9.14        9.10  9.75   \n",
      "1      10.24       9.72       9.29       9.13       9.11        9.10  9.74   \n",
      "2      10.25       9.79       9.38       9.20       9.15        9.12  9.72   \n",
      "3      10.12       9.78       9.43       9.25       9.21        9.18  9.86   \n",
      "4      10.12       9.78       9.42       9.24       9.23        9.25  9.77   \n",
      "\n",
      "   CP3M   CP6M  CP1M_T1Y  CP3M_T1Y  CP6M_T1Y  Ratio T10Y/T1Y Index  \\\n",
      "0  9.95  10.01  0.936599  0.955812  0.961575              0.874159   \n",
      "1  9.90   9.96  0.951172  0.966797  0.972656              0.888672   \n",
      "2  9.85   9.87  0.948293  0.960976  0.962927              0.889756   \n",
      "3  9.95   9.98  0.974308  0.983202  0.986166              0.907115   \n",
      "4  9.76   9.71  0.965415  0.964427  0.959486              0.914032   \n",
      "\n",
      "   Ratio(CP1M/CP1M_T1Y)  USPHCI  PCT 3MO FWD  PCT 6MO FWD  PCT 9MO FWD  \n",
      "0              0.096061   47.08     0.011470     0.018060     0.024406  \n",
      "1              0.097656   47.32     0.009298     0.014866     0.020612  \n",
      "2              0.097561   47.39     0.010340     0.015455     0.020154  \n",
      "3              0.098814   47.62     0.006720     0.013141     0.017409  \n",
      "4              0.098814   47.76     0.005653     0.011451     0.016353  \n"
     ]
    },
    {
     "data": {
      "text/html": [
       "<div>\n",
       "<style scoped>\n",
       "    .dataframe tbody tr th:only-of-type {\n",
       "        vertical-align: middle;\n",
       "    }\n",
       "\n",
       "    .dataframe tbody tr th {\n",
       "        vertical-align: top;\n",
       "    }\n",
       "\n",
       "    .dataframe thead th {\n",
       "        text-align: right;\n",
       "    }\n",
       "</style>\n",
       "<table border=\"1\" class=\"dataframe\">\n",
       "  <thead>\n",
       "    <tr style=\"text-align: right;\">\n",
       "      <th></th>\n",
       "      <th>T1Y Index</th>\n",
       "      <th>T2Y Index</th>\n",
       "      <th>T3Y Index</th>\n",
       "      <th>T5Y Index</th>\n",
       "      <th>T7Y Index</th>\n",
       "      <th>T10Y Index</th>\n",
       "      <th>CP1M</th>\n",
       "      <th>CP3M</th>\n",
       "      <th>CP6M</th>\n",
       "      <th>CP1M_T1Y</th>\n",
       "      <th>CP3M_T1Y</th>\n",
       "      <th>CP6M_T1Y</th>\n",
       "      <th>Ratio T10Y/T1Y Index</th>\n",
       "      <th>Ratio(CP1M/CP1M_T1Y)</th>\n",
       "      <th>USPHCI</th>\n",
       "      <th>PCT 3MO FWD</th>\n",
       "      <th>PCT 6MO FWD</th>\n",
       "      <th>PCT 9MO FWD</th>\n",
       "    </tr>\n",
       "  </thead>\n",
       "  <tbody>\n",
       "    <tr>\n",
       "      <td>count</td>\n",
       "      <td>223.000000</td>\n",
       "      <td>223.000000</td>\n",
       "      <td>223.000000</td>\n",
       "      <td>223.000000</td>\n",
       "      <td>223.000000</td>\n",
       "      <td>223.000000</td>\n",
       "      <td>223.000000</td>\n",
       "      <td>223.000000</td>\n",
       "      <td>223.000000</td>\n",
       "      <td>223.000000</td>\n",
       "      <td>223.000000</td>\n",
       "      <td>223.000000</td>\n",
       "      <td>223.000000</td>\n",
       "      <td>223.000000</td>\n",
       "      <td>223.000000</td>\n",
       "      <td>223.000000</td>\n",
       "      <td>223.000000</td>\n",
       "      <td>223.000000</td>\n",
       "    </tr>\n",
       "    <tr>\n",
       "      <td>mean</td>\n",
       "      <td>8.030717</td>\n",
       "      <td>8.410673</td>\n",
       "      <td>8.563587</td>\n",
       "      <td>8.808655</td>\n",
       "      <td>8.979776</td>\n",
       "      <td>9.073498</td>\n",
       "      <td>7.942197</td>\n",
       "      <td>7.936906</td>\n",
       "      <td>7.892780</td>\n",
       "      <td>0.981765</td>\n",
       "      <td>0.983524</td>\n",
       "      <td>0.982666</td>\n",
       "      <td>1.200617</td>\n",
       "      <td>0.145668</td>\n",
       "      <td>60.594664</td>\n",
       "      <td>0.007083</td>\n",
       "      <td>0.014090</td>\n",
       "      <td>0.021078</td>\n",
       "    </tr>\n",
       "    <tr>\n",
       "      <td>std</td>\n",
       "      <td>3.158575</td>\n",
       "      <td>2.954431</td>\n",
       "      <td>2.820405</td>\n",
       "      <td>2.647742</td>\n",
       "      <td>2.542686</td>\n",
       "      <td>2.447525</td>\n",
       "      <td>3.405098</td>\n",
       "      <td>3.329354</td>\n",
       "      <td>3.181421</td>\n",
       "      <td>0.086243</td>\n",
       "      <td>0.077222</td>\n",
       "      <td>0.067152</td>\n",
       "      <td>0.243613</td>\n",
       "      <td>0.060447</td>\n",
       "      <td>9.512352</td>\n",
       "      <td>0.004839</td>\n",
       "      <td>0.009137</td>\n",
       "      <td>0.013037</td>\n",
       "    </tr>\n",
       "    <tr>\n",
       "      <td>min</td>\n",
       "      <td>3.180000</td>\n",
       "      <td>3.840000</td>\n",
       "      <td>4.170000</td>\n",
       "      <td>4.710000</td>\n",
       "      <td>5.050000</td>\n",
       "      <td>5.330000</td>\n",
       "      <td>3.110000</td>\n",
       "      <td>3.140000</td>\n",
       "      <td>3.190000</td>\n",
       "      <td>0.717523</td>\n",
       "      <td>0.713534</td>\n",
       "      <td>0.698496</td>\n",
       "      <td>0.805942</td>\n",
       "      <td>0.059809</td>\n",
       "      <td>47.080000</td>\n",
       "      <td>-0.006811</td>\n",
       "      <td>-0.009818</td>\n",
       "      <td>-0.012272</td>\n",
       "    </tr>\n",
       "    <tr>\n",
       "      <td>25%</td>\n",
       "      <td>5.735000</td>\n",
       "      <td>6.180000</td>\n",
       "      <td>6.410000</td>\n",
       "      <td>6.695000</td>\n",
       "      <td>6.965000</td>\n",
       "      <td>7.175000</td>\n",
       "      <td>5.605000</td>\n",
       "      <td>5.645000</td>\n",
       "      <td>5.635000</td>\n",
       "      <td>0.933849</td>\n",
       "      <td>0.939727</td>\n",
       "      <td>0.945402</td>\n",
       "      <td>1.055115</td>\n",
       "      <td>0.101626</td>\n",
       "      <td>50.370000</td>\n",
       "      <td>0.005526</td>\n",
       "      <td>0.010694</td>\n",
       "      <td>0.014351</td>\n",
       "    </tr>\n",
       "    <tr>\n",
       "      <td>50%</td>\n",
       "      <td>7.670000</td>\n",
       "      <td>8.000000</td>\n",
       "      <td>8.130000</td>\n",
       "      <td>8.330000</td>\n",
       "      <td>8.520000</td>\n",
       "      <td>8.610000</td>\n",
       "      <td>7.730000</td>\n",
       "      <td>7.720000</td>\n",
       "      <td>7.620000</td>\n",
       "      <td>0.972671</td>\n",
       "      <td>0.977941</td>\n",
       "      <td>0.979955</td>\n",
       "      <td>1.160940</td>\n",
       "      <td>0.130378</td>\n",
       "      <td>61.090000</td>\n",
       "      <td>0.008270</td>\n",
       "      <td>0.016184</td>\n",
       "      <td>0.024425</td>\n",
       "    </tr>\n",
       "    <tr>\n",
       "      <td>75%</td>\n",
       "      <td>9.840000</td>\n",
       "      <td>10.075000</td>\n",
       "      <td>10.375000</td>\n",
       "      <td>10.525000</td>\n",
       "      <td>10.640000</td>\n",
       "      <td>10.685000</td>\n",
       "      <td>9.345000</td>\n",
       "      <td>9.345000</td>\n",
       "      <td>9.300000</td>\n",
       "      <td>1.033005</td>\n",
       "      <td>1.026137</td>\n",
       "      <td>1.015973</td>\n",
       "      <td>1.254059</td>\n",
       "      <td>0.174369</td>\n",
       "      <td>67.005000</td>\n",
       "      <td>0.010203</td>\n",
       "      <td>0.019878</td>\n",
       "      <td>0.029398</td>\n",
       "    </tr>\n",
       "    <tr>\n",
       "      <td>max</td>\n",
       "      <td>16.720000</td>\n",
       "      <td>16.460000</td>\n",
       "      <td>16.220000</td>\n",
       "      <td>15.930000</td>\n",
       "      <td>15.650000</td>\n",
       "      <td>15.320000</td>\n",
       "      <td>18.950000</td>\n",
       "      <td>18.070000</td>\n",
       "      <td>16.660000</td>\n",
       "      <td>1.339223</td>\n",
       "      <td>1.277032</td>\n",
       "      <td>1.220480</td>\n",
       "      <td>2.018868</td>\n",
       "      <td>0.314465</td>\n",
       "      <td>79.210000</td>\n",
       "      <td>0.020297</td>\n",
       "      <td>0.036636</td>\n",
       "      <td>0.050174</td>\n",
       "    </tr>\n",
       "  </tbody>\n",
       "</table>\n",
       "</div>"
      ],
      "text/plain": [
       "        T1Y Index   T2Y Index   T3Y Index   T5Y Index   T7Y Index  T10Y Index  \\\n",
       "count  223.000000  223.000000  223.000000  223.000000  223.000000  223.000000   \n",
       "mean     8.030717    8.410673    8.563587    8.808655    8.979776    9.073498   \n",
       "std      3.158575    2.954431    2.820405    2.647742    2.542686    2.447525   \n",
       "min      3.180000    3.840000    4.170000    4.710000    5.050000    5.330000   \n",
       "25%      5.735000    6.180000    6.410000    6.695000    6.965000    7.175000   \n",
       "50%      7.670000    8.000000    8.130000    8.330000    8.520000    8.610000   \n",
       "75%      9.840000   10.075000   10.375000   10.525000   10.640000   10.685000   \n",
       "max     16.720000   16.460000   16.220000   15.930000   15.650000   15.320000   \n",
       "\n",
       "             CP1M        CP3M        CP6M    CP1M_T1Y    CP3M_T1Y    CP6M_T1Y  \\\n",
       "count  223.000000  223.000000  223.000000  223.000000  223.000000  223.000000   \n",
       "mean     7.942197    7.936906    7.892780    0.981765    0.983524    0.982666   \n",
       "std      3.405098    3.329354    3.181421    0.086243    0.077222    0.067152   \n",
       "min      3.110000    3.140000    3.190000    0.717523    0.713534    0.698496   \n",
       "25%      5.605000    5.645000    5.635000    0.933849    0.939727    0.945402   \n",
       "50%      7.730000    7.720000    7.620000    0.972671    0.977941    0.979955   \n",
       "75%      9.345000    9.345000    9.300000    1.033005    1.026137    1.015973   \n",
       "max     18.950000   18.070000   16.660000    1.339223    1.277032    1.220480   \n",
       "\n",
       "       Ratio T10Y/T1Y Index  Ratio(CP1M/CP1M_T1Y)      USPHCI  PCT 3MO FWD  \\\n",
       "count            223.000000            223.000000  223.000000   223.000000   \n",
       "mean               1.200617              0.145668   60.594664     0.007083   \n",
       "std                0.243613              0.060447    9.512352     0.004839   \n",
       "min                0.805942              0.059809   47.080000    -0.006811   \n",
       "25%                1.055115              0.101626   50.370000     0.005526   \n",
       "50%                1.160940              0.130378   61.090000     0.008270   \n",
       "75%                1.254059              0.174369   67.005000     0.010203   \n",
       "max                2.018868              0.314465   79.210000     0.020297   \n",
       "\n",
       "       PCT 6MO FWD  PCT 9MO FWD  \n",
       "count   223.000000   223.000000  \n",
       "mean      0.014090     0.021078  \n",
       "std       0.009137     0.013037  \n",
       "min      -0.009818    -0.012272  \n",
       "25%       0.010694     0.014351  \n",
       "50%       0.016184     0.024425  \n",
       "75%       0.019878     0.029398  \n",
       "max       0.036636     0.050174  "
      ]
     },
     "execution_count": 6,
     "metadata": {},
     "output_type": "execute_result"
    }
   ],
   "source": [
    "#import data\n",
    "df = pd.read_csv('MLF_GP2_EconCycle.csv')\n",
    "#dropping the atribute date because it's irrelevant\n",
    "df = df.drop(['Date'],axis=1)\n",
    "#summary of data\n",
    "print(\"Size of data \" + str(len(df)) + \" x \" + str(len(df.columns)))\n",
    "print(df.head())\n",
    "\n",
    "df.describe()"
   ]
  },
  {
   "cell_type": "markdown",
   "metadata": {},
   "source": [
    "## SVM"
   ]
  },
  {
   "cell_type": "code",
   "execution_count": 8,
   "metadata": {},
   "outputs": [],
   "source": [
    "#split data\n",
    "X = df.iloc[:, :-1].values\n",
    "y = df['USPHCI'].values\n",
    "\n",
    "X_train, X_test, y_train, y_test = train_test_split(\n",
    "    X, y, test_size=0.20, random_state=42)\n"
   ]
  },
  {
   "cell_type": "code",
   "execution_count": 10,
   "metadata": {},
   "outputs": [],
   "source": [
    "# standardize data\n",
    "sc = StandardScaler()\n",
    "X_train_std = sc.fit_transform(X_train)\n",
    "X_test_std = sc.transform(X_test)"
   ]
  },
  {
   "cell_type": "code",
   "execution_count": 15,
   "metadata": {},
   "outputs": [
    {
     "name": "stdout",
     "output_type": "stream",
     "text": [
      "The explained variance ratio for 3 components are : \n",
      " [0.65804773 0.17594288 0.09279497]\n"
     ]
    }
   ],
   "source": [
    "# pca transform data\n",
    "pca = PCA(n_components=3)\n",
    "X_train_pca = pca.fit_transform(X_train_std)\n",
    "X_test_pca = pca.transform(X_test_std)\n",
    "print(\"The explained variance ratio for 3 components are : \\n\", pca.explained_variance_ratio_)"
   ]
  },
  {
   "cell_type": "code",
   "execution_count": 12,
   "metadata": {},
   "outputs": [
    {
     "data": {
      "image/png": "[encoded data removed]",
      "text/plain": [
       "<Figure size 432x288 with 1 Axes>"
      ]
     },
     "metadata": {
      "needs_background": "light"
     },
     "output_type": "display_data"
    }
   ],
   "source": [
    "plt.bar(range(1, 4), pca.explained_variance_ratio_, alpha=0.5, align='center')\n",
    "plt.step(range(1, 4), np.cumsum(pca.explained_variance_ratio_), where='mid')\n",
    "plt.ylabel('Explained variance ratio')\n",
    "plt.xlabel('Principal components')\n",
    "\n",
    "plt.show()"
   ]
  },
  {
   "cell_type": "code",
   "execution_count": 16,
   "metadata": {},
   "outputs": [],
   "source": [
    "SVM = svm.SVR(kernel ='rbf', C=1, gamma = 'scale')\n",
    "SVM.fit(X_train_pca, y_train)\n",
    "y_train_pred = SVM.predict(X_train_pca)\n",
    "y_test_pred = SVM.predict(X_test_pca)"
   ]
  },
  {
   "cell_type": "code",
   "execution_count": 17,
   "metadata": {},
   "outputs": [
    {
     "name": "stdout",
     "output_type": "stream",
     "text": [
      "The MSE train: 18.603, test: 16.400\n"
     ]
    }
   ],
   "source": [
    "print('The MSE train: %.3f, test: %.3f' % (\n",
    "        mean_squared_error(y_train, y_train_pred),\n",
    "        mean_squared_error(y_test, y_test_pred)))"
   ]
  },
  {
   "cell_type": "code",
   "execution_count": 18,
   "metadata": {},
   "outputs": [
    {
     "name": "stdout",
     "output_type": "stream",
     "text": [
      "The coefficient of determination train: 0.799, test: 0.794\n"
     ]
    }
   ],
   "source": [
    "print('The coefficient of determination train: %.3f, test: %.3f' % (\n",
    "        r2_score(y_train, y_train_pred),\n",
    "        r2_score(y_test, y_test_pred)))"
   ]
  },
  {
   "cell_type": "markdown",
   "metadata": {},
   "source": [
    "## Random Forest Regression"
   ]
  },
  {
   "cell_type": "code",
   "execution_count": 24,
   "metadata": {},
   "outputs": [],
   "source": [
    "forest = RandomForestRegressor(n_estimators=100,\n",
    "                                random_state=1,\n",
    "                                n_jobs=-1)\n",
    "\n",
    "forest.fit(X_train_pca, y_train)\n",
    "y_train_pred = forest.predict(X_train_pca)\n",
    "y_test_pred = forest.predict(X_test_pca)"
   ]
  },
  {
   "cell_type": "code",
   "execution_count": 25,
   "metadata": {},
   "outputs": [
    {
     "name": "stdout",
     "output_type": "stream",
     "text": [
      "The MSE train: 1.108, test: 7.693\n"
     ]
    }
   ],
   "source": [
    "print('The MSE train: %.3f, test: %.3f' % (\n",
    "        mean_squared_error(y_train, y_train_pred),\n",
    "        mean_squared_error(y_test, y_test_pred)))"
   ]
  },
  {
   "cell_type": "code",
   "execution_count": 26,
   "metadata": {},
   "outputs": [
    {
     "name": "stdout",
     "output_type": "stream",
     "text": [
      "The coefficient of determination train: 0.988, test: 0.904\n"
     ]
    }
   ],
   "source": [
    "print('The coefficient of determination train: %.3f, test: %.3f' % (\n",
    "        r2_score(y_train, y_train_pred),\n",
    "        r2_score(y_test, y_test_pred)))"
   ]
  },
  {
   "cell_type": "markdown",
   "metadata": {},
   "source": [
    "## Hyperparameter Tuning"
   ]
  },
  {
   "cell_type": "markdown",
   "metadata": {},
   "source": [
    "#### SVM"
   ]
  },
  {
   "cell_type": "code",
   "execution_count": 36,
   "metadata": {},
   "outputs": [
    {
     "name": "stdout",
     "output_type": "stream",
     "text": [
      "Tuned SVM Parameters: {'C': 100, 'gamma': 0.1, 'kernel': 'rbf'}\n",
      "Best score is 0.8566971351750609\n"
     ]
    }
   ],
   "source": [
    "# defining parameter range \n",
    "param_grid = {'C': [0.1, 1, 10, 100, 1000],  \n",
    "              'gamma': [1, 0.1, 0.01, 0.001, 0.0001], \n",
    "              'kernel': ['rbf']}  \n",
    "  \n",
    "grid = GridSearchCV(svm.SVR(), param_grid, cv=10) \n",
    "\n",
    "grid.fit(X_train_pca, y_train) \n",
    "\n",
    "print(\"Tuned SVM Parameters: {}\".format(grid.best_params_)) \n",
    "print(\"Best score is {}\".format(grid.best_score_))"
   ]
  },
  {
   "cell_type": "markdown",
   "metadata": {},
   "source": [
    "#### Random Forest Regression"
   ]
  },
  {
   "cell_type": "code",
   "execution_count": 35,
   "metadata": {},
   "outputs": [
    {
     "name": "stdout",
     "output_type": "stream",
     "text": [
      "Tuned Random Forest Regression Parameters: {'n_estimators': 200}\n",
      "Best score is 0.8956266884201537\n"
     ]
    }
   ],
   "source": [
    "params_rf = {'n_estimators':[10, 20, 50, 80, 100, 200]}\n",
    "\n",
    "forest = RandomForestRegressor()\n",
    "\n",
    "forest_cv = GridSearchCV(forest, params_rf, cv=10)\n",
    "\n",
    "forest_cv.fit(X_train_pca, y_train)\n",
    "\n",
    "# Print the tuned parameters and score\n",
    "print(\"Tuned Random Forest Regression Parameters: {}\".format(forest_cv.best_params_)) \n",
    "print(\"Best score is {}\".format(forest_cv.best_score_))\n",
    "\n",
    "#grid_rf = GridSearchCV(estimator=RandomForestRegressor(), param_grid=params_rf, scoring='accuracy', cv=10, n_jobs=-1, verbose=1)\n",
    "\n",
    "#grid_rf.fit(X_train_pca, y_train)\n",
    "\n",
    "#best_hyperparams = grid_rf.best_params_\n",
    "#print('Best hyerparameters:', best_hyperparams)"
   ]
  }
 ],
 "metadata": {
  "kernelspec": {
   "display_name": "Python 3",
   "language": "python",
   "name": "python3"
  },
  "language_info": {
   "codemirror_mode": {
    "name": "ipython",
    "version": 3
   },
   "file_extension": ".py",
   "mimetype": "text/x-python",
   "name": "python",
   "nbconvert_exporter": "python",
   "pygments_lexer": "ipython3",
   "version": "3.7.4"
  }
 },
 "nbformat": 4,
 "nbformat_minor": 2
}
